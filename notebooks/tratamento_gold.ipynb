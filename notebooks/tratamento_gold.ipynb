{
 "cells": [
  {
   "cell_type": "code",
   "execution_count": 495,
   "metadata": {},
   "outputs": [],
   "source": [
    "import pandas as pd\n",
    "import numpy as np\n",
    "from datetime import datetime\n",
    "from pathlib import Path\n",
    "import os"
   ]
  },
  {
   "cell_type": "markdown",
   "metadata": {},
   "source": [
    "## Lendo dados"
   ]
  },
  {
   "cell_type": "code",
   "execution_count": 496,
   "metadata": {},
   "outputs": [],
   "source": [
    "BASEFOLDER = r'C:\\Users\\gabri\\OneDrive\\Documentos\\Projetos\\Datalake\\{stage}\\{folder}'\n",
    "today = datetime.now()\n",
    "date = today.strftime('%Y_%m_%d'\n",
    "                      )\n",
    "folder_path = BASEFOLDER.format(stage='silver', folder='dados_recebidos')\n",
    "file_name = f'dados_recebidos_extractDate={date}.csv'\n",
    "\n",
    "file_path = os.path.join(folder_path, file_name)"
   ]
  },
  {
   "cell_type": "code",
   "execution_count": 497,
   "metadata": {},
   "outputs": [],
   "source": [
    "dataset = pd.read_csv(file_path, sep='\\t')"
   ]
  },
  {
   "cell_type": "markdown",
   "metadata": {},
   "source": [
    "## Tb Fato Lançamento"
   ]
  },
  {
   "cell_type": "code",
   "execution_count": 498,
   "metadata": {},
   "outputs": [],
   "source": [
    "select_column = [\n",
    "            'sk_unidade', \n",
    "            'pk_lancamento',\n",
    "            'cd_lancamento',\n",
    "            'sk_conta_financeira',\n",
    "            'dt_vencimento',\n",
    "            'dt_mes_referencia',\n",
    "            'vl_total_nf',\n",
    "            'dt_venc_parcela',\n",
    "            'sk_fornecedor',\n",
    "            'dt_realizado',\n",
    "            'vl_realizado',\n",
    "            'ds_observacao',\n",
    "            'dt_emissao_nf_doc',\n",
    "            'dt_inclusao',\n",
    "            'cd_nf_doc',\n",
    "            'sk_conta_bancaria',\n",
    "            'cd_parcela',\n",
    "            'vl_juros',\n",
    "            'vl_descontos',\n",
    "            'tp_lancamento',\n",
    "            'sk_normal_centro_custos',\n",
    "            'tp_forma_pgto',\n",
    "            'cd_documento',\n",
    "            'tp_situacao'\n",
    "]\n",
    "\n",
    "fato_lancamento = dataset[select_column]"
   ]
  },
  {
   "cell_type": "code",
   "execution_count": 499,
   "metadata": {},
   "outputs": [
    {
     "name": "stderr",
     "output_type": "stream",
     "text": [
      "C:\\Users\\gabri\\AppData\\Local\\Temp\\ipykernel_3948\\3873135393.py:1: SettingWithCopyWarning: \n",
      "A value is trying to be set on a copy of a slice from a DataFrame.\n",
      "Try using .loc[row_indexer,col_indexer] = value instead\n",
      "\n",
      "See the caveats in the documentation: https://pandas.pydata.org/pandas-docs/stable/user_guide/indexing.html#returning-a-view-versus-a-copy\n",
      "  fato_lancamento['sk_conta_bancaria'] = fato_lancamento['sk_conta_bancaria'].fillna(1)\n"
     ]
    }
   ],
   "source": [
    "fato_lancamento['sk_conta_bancaria'] = fato_lancamento['sk_conta_bancaria'].fillna(1)"
   ]
  },
  {
   "cell_type": "code",
   "execution_count": 500,
   "metadata": {},
   "outputs": [],
   "source": [
    "columns_type = {\n",
    "    'sk_unidade': int, \n",
    "    'pk_lancamento': int,\n",
    "    'cd_lancamento': int, \n",
    "    'sk_conta_financeira': int,\n",
    "    'dt_vencimento': 'datetime64[ns]',\n",
    "    'dt_mes_referencia': 'datetime64[ns]',\n",
    "    'vl_total_nf': float, \n",
    "    'dt_venc_parcela': 'datetime64[ns]', \n",
    "    'sk_fornecedor': int, \n",
    "    'dt_realizado': 'datetime64[ns]', \n",
    "    'vl_realizado': float, \n",
    "    'ds_observacao': object, \n",
    "    'dt_emissao_nf_doc': 'datetime64[ns]', \n",
    "    'dt_inclusao': 'datetime64[ns]', \n",
    "    'cd_nf_doc': object, \n",
    "    'sk_conta_bancaria': int, \n",
    "    'cd_parcela': int, \n",
    "    'vl_juros': float, \n",
    "    'vl_descontos': float, \n",
    "    'tp_lancamento': object, \n",
    "    'sk_normal_centro_custos': int, \n",
    "    'tp_forma_pgto': object, \n",
    "    'cd_documento': object, \n",
    "    'tp_situacao': object\n",
    "}\n",
    "\n",
    "fato_lancamento = fato_lancamento.astype(columns_type)"
   ]
  },
  {
   "cell_type": "code",
   "execution_count": 501,
   "metadata": {},
   "outputs": [
    {
     "data": {
      "text/plain": [
       "array([1])"
      ]
     },
     "execution_count": 501,
     "metadata": {},
     "output_type": "execute_result"
    }
   ],
   "source": [
    "fato_lancamento['sk_conta_bancaria'].unique()"
   ]
  },
  {
   "cell_type": "markdown",
   "metadata": {},
   "source": [
    "## Dim Fornecedor"
   ]
  },
  {
   "cell_type": "code",
   "execution_count": 502,
   "metadata": {},
   "outputs": [
    {
     "data": {
      "text/html": [
       "<div>\n",
       "<style scoped>\n",
       "    .dataframe tbody tr th:only-of-type {\n",
       "        vertical-align: middle;\n",
       "    }\n",
       "\n",
       "    .dataframe tbody tr th {\n",
       "        vertical-align: top;\n",
       "    }\n",
       "\n",
       "    .dataframe thead th {\n",
       "        text-align: right;\n",
       "    }\n",
       "</style>\n",
       "<table border=\"1\" class=\"dataframe\">\n",
       "  <thead>\n",
       "    <tr style=\"text-align: right;\">\n",
       "      <th></th>\n",
       "      <th>Unnamed: 0</th>\n",
       "      <th>sk_unidade</th>\n",
       "      <th>pk_lancamento</th>\n",
       "      <th>cd_lancamento</th>\n",
       "      <th>sk_conta_financeira</th>\n",
       "      <th>dt_vencimento</th>\n",
       "      <th>dt_mes_referencia</th>\n",
       "      <th>vl_total_nf</th>\n",
       "      <th>dt_venc_parcela</th>\n",
       "      <th>sk_fornecedor</th>\n",
       "      <th>...</th>\n",
       "      <th>ds_normal_centro_custos</th>\n",
       "      <th>ds_normal_conta_financeira</th>\n",
       "      <th>ds_unidade</th>\n",
       "      <th>sk_normal_conta_financeira</th>\n",
       "      <th>vl_parcela</th>\n",
       "      <th>cd_agencia</th>\n",
       "      <th>cd_conta_bancaria</th>\n",
       "      <th>dt_saldo_inicial</th>\n",
       "      <th>vl_saldo_inicial</th>\n",
       "      <th>sk_conta_bancaria</th>\n",
       "    </tr>\n",
       "  </thead>\n",
       "  <tbody>\n",
       "    <tr>\n",
       "      <th>0</th>\n",
       "      <td>0</td>\n",
       "      <td>1</td>\n",
       "      <td>6</td>\n",
       "      <td>6</td>\n",
       "      <td>47</td>\n",
       "      <td>2023-04-28</td>\n",
       "      <td>2023-03-01</td>\n",
       "      <td>15.00</td>\n",
       "      <td>2023-04-28</td>\n",
       "      <td>1</td>\n",
       "      <td>...</td>\n",
       "      <td>Farmacia</td>\n",
       "      <td>CONSUMO DE MATERIAIS GERAIS</td>\n",
       "      <td>D</td>\n",
       "      <td>11.0</td>\n",
       "      <td>15.00</td>\n",
       "      <td>123.0</td>\n",
       "      <td>78956.0</td>\n",
       "      <td>2023-01-01</td>\n",
       "      <td>2238863.82</td>\n",
       "      <td>1.0</td>\n",
       "    </tr>\n",
       "    <tr>\n",
       "      <th>1</th>\n",
       "      <td>1</td>\n",
       "      <td>1</td>\n",
       "      <td>7</td>\n",
       "      <td>7</td>\n",
       "      <td>71</td>\n",
       "      <td>2023-03-10</td>\n",
       "      <td>2023-03-01</td>\n",
       "      <td>36.53</td>\n",
       "      <td>2023-03-10</td>\n",
       "      <td>2</td>\n",
       "      <td>...</td>\n",
       "      <td>Tecnologia Informacao</td>\n",
       "      <td>MANUTENCAO E ASSISTENCIA TECNICA</td>\n",
       "      <td>D</td>\n",
       "      <td>14.0</td>\n",
       "      <td>36.53</td>\n",
       "      <td>123.0</td>\n",
       "      <td>78956.0</td>\n",
       "      <td>2023-01-01</td>\n",
       "      <td>2238863.82</td>\n",
       "      <td>1.0</td>\n",
       "    </tr>\n",
       "    <tr>\n",
       "      <th>2</th>\n",
       "      <td>2</td>\n",
       "      <td>1</td>\n",
       "      <td>8</td>\n",
       "      <td>8</td>\n",
       "      <td>71</td>\n",
       "      <td>2023-03-27</td>\n",
       "      <td>2023-03-01</td>\n",
       "      <td>328.58</td>\n",
       "      <td>2023-03-27</td>\n",
       "      <td>2</td>\n",
       "      <td>...</td>\n",
       "      <td>Ambulatorio</td>\n",
       "      <td>MANUTENCAO E ASSISTENCIA TECNICA</td>\n",
       "      <td>D</td>\n",
       "      <td>14.0</td>\n",
       "      <td>328.58</td>\n",
       "      <td>123.0</td>\n",
       "      <td>78956.0</td>\n",
       "      <td>2023-01-01</td>\n",
       "      <td>2238863.82</td>\n",
       "      <td>1.0</td>\n",
       "    </tr>\n",
       "    <tr>\n",
       "      <th>3</th>\n",
       "      <td>3</td>\n",
       "      <td>1</td>\n",
       "      <td>9</td>\n",
       "      <td>9</td>\n",
       "      <td>71</td>\n",
       "      <td>2023-04-24</td>\n",
       "      <td>2023-03-01</td>\n",
       "      <td>328.58</td>\n",
       "      <td>2023-04-24</td>\n",
       "      <td>2</td>\n",
       "      <td>...</td>\n",
       "      <td>UTI</td>\n",
       "      <td>MANUTENCAO E ASSISTENCIA TECNICA</td>\n",
       "      <td>D</td>\n",
       "      <td>14.0</td>\n",
       "      <td>328.58</td>\n",
       "      <td>123.0</td>\n",
       "      <td>78956.0</td>\n",
       "      <td>2023-01-01</td>\n",
       "      <td>2238863.82</td>\n",
       "      <td>1.0</td>\n",
       "    </tr>\n",
       "    <tr>\n",
       "      <th>4</th>\n",
       "      <td>4</td>\n",
       "      <td>1</td>\n",
       "      <td>10</td>\n",
       "      <td>10</td>\n",
       "      <td>71</td>\n",
       "      <td>2023-05-22</td>\n",
       "      <td>2023-03-01</td>\n",
       "      <td>328.58</td>\n",
       "      <td>2023-05-22</td>\n",
       "      <td>2</td>\n",
       "      <td>...</td>\n",
       "      <td>Ambulatorio</td>\n",
       "      <td>MANUTENCAO E ASSISTENCIA TECNICA</td>\n",
       "      <td>D</td>\n",
       "      <td>14.0</td>\n",
       "      <td>328.58</td>\n",
       "      <td>123.0</td>\n",
       "      <td>78956.0</td>\n",
       "      <td>2023-01-01</td>\n",
       "      <td>2238863.82</td>\n",
       "      <td>1.0</td>\n",
       "    </tr>\n",
       "  </tbody>\n",
       "</table>\n",
       "<p>5 rows × 41 columns</p>\n",
       "</div>"
      ],
      "text/plain": [
       "   Unnamed: 0  sk_unidade  pk_lancamento  cd_lancamento  sk_conta_financeira  \\\n",
       "0           0           1              6              6                   47   \n",
       "1           1           1              7              7                   71   \n",
       "2           2           1              8              8                   71   \n",
       "3           3           1              9              9                   71   \n",
       "4           4           1             10             10                   71   \n",
       "\n",
       "  dt_vencimento dt_mes_referencia  vl_total_nf dt_venc_parcela  sk_fornecedor  \\\n",
       "0    2023-04-28        2023-03-01        15.00      2023-04-28              1   \n",
       "1    2023-03-10        2023-03-01        36.53      2023-03-10              2   \n",
       "2    2023-03-27        2023-03-01       328.58      2023-03-27              2   \n",
       "3    2023-04-24        2023-03-01       328.58      2023-04-24              2   \n",
       "4    2023-05-22        2023-03-01       328.58      2023-05-22              2   \n",
       "\n",
       "   ... ds_normal_centro_custos        ds_normal_conta_financeira ds_unidade  \\\n",
       "0  ...                Farmacia       CONSUMO DE MATERIAIS GERAIS          D   \n",
       "1  ...   Tecnologia Informacao  MANUTENCAO E ASSISTENCIA TECNICA          D   \n",
       "2  ...             Ambulatorio  MANUTENCAO E ASSISTENCIA TECNICA          D   \n",
       "3  ...                     UTI  MANUTENCAO E ASSISTENCIA TECNICA          D   \n",
       "4  ...             Ambulatorio  MANUTENCAO E ASSISTENCIA TECNICA          D   \n",
       "\n",
       "   sk_normal_conta_financeira  vl_parcela cd_agencia  cd_conta_bancaria  \\\n",
       "0                        11.0       15.00      123.0            78956.0   \n",
       "1                        14.0       36.53      123.0            78956.0   \n",
       "2                        14.0      328.58      123.0            78956.0   \n",
       "3                        14.0      328.58      123.0            78956.0   \n",
       "4                        14.0      328.58      123.0            78956.0   \n",
       "\n",
       "   dt_saldo_inicial  vl_saldo_inicial  sk_conta_bancaria  \n",
       "0        2023-01-01        2238863.82                1.0  \n",
       "1        2023-01-01        2238863.82                1.0  \n",
       "2        2023-01-01        2238863.82                1.0  \n",
       "3        2023-01-01        2238863.82                1.0  \n",
       "4        2023-01-01        2238863.82                1.0  \n",
       "\n",
       "[5 rows x 41 columns]"
      ]
     },
     "execution_count": 502,
     "metadata": {},
     "output_type": "execute_result"
    }
   ],
   "source": [
    "dataset.head()"
   ]
  },
  {
   "cell_type": "code",
   "execution_count": 503,
   "metadata": {},
   "outputs": [],
   "source": [
    "select_column = [\n",
    "            'cd_fornecedor',\n",
    "            'ds_fornecedor'\n",
    "]\n",
    "\n",
    "dim_fornecedor = dataset[select_column]"
   ]
  },
  {
   "cell_type": "code",
   "execution_count": 504,
   "metadata": {},
   "outputs": [
    {
     "name": "stderr",
     "output_type": "stream",
     "text": [
      "C:\\Users\\gabri\\AppData\\Local\\Temp\\ipykernel_3948\\1245270467.py:1: SettingWithCopyWarning: \n",
      "A value is trying to be set on a copy of a slice from a DataFrame\n",
      "\n",
      "See the caveats in the documentation: https://pandas.pydata.org/pandas-docs/stable/user_guide/indexing.html#returning-a-view-versus-a-copy\n",
      "  dim_fornecedor.drop_duplicates(inplace=True)\n"
     ]
    }
   ],
   "source": [
    "dim_fornecedor.drop_duplicates(inplace=True)"
   ]
  },
  {
   "cell_type": "markdown",
   "metadata": {},
   "source": [
    "## Dim Conta Financeira"
   ]
  },
  {
   "cell_type": "code",
   "execution_count": 505,
   "metadata": {},
   "outputs": [
    {
     "data": {
      "text/html": [
       "<div>\n",
       "<style scoped>\n",
       "    .dataframe tbody tr th:only-of-type {\n",
       "        vertical-align: middle;\n",
       "    }\n",
       "\n",
       "    .dataframe tbody tr th {\n",
       "        vertical-align: top;\n",
       "    }\n",
       "\n",
       "    .dataframe thead th {\n",
       "        text-align: right;\n",
       "    }\n",
       "</style>\n",
       "<table border=\"1\" class=\"dataframe\">\n",
       "  <thead>\n",
       "    <tr style=\"text-align: right;\">\n",
       "      <th></th>\n",
       "      <th>Unnamed: 0</th>\n",
       "      <th>sk_unidade</th>\n",
       "      <th>pk_lancamento</th>\n",
       "      <th>cd_lancamento</th>\n",
       "      <th>sk_conta_financeira</th>\n",
       "      <th>dt_vencimento</th>\n",
       "      <th>dt_mes_referencia</th>\n",
       "      <th>vl_total_nf</th>\n",
       "      <th>dt_venc_parcela</th>\n",
       "      <th>sk_fornecedor</th>\n",
       "      <th>...</th>\n",
       "      <th>ds_normal_centro_custos</th>\n",
       "      <th>ds_normal_conta_financeira</th>\n",
       "      <th>ds_unidade</th>\n",
       "      <th>sk_normal_conta_financeira</th>\n",
       "      <th>vl_parcela</th>\n",
       "      <th>cd_agencia</th>\n",
       "      <th>cd_conta_bancaria</th>\n",
       "      <th>dt_saldo_inicial</th>\n",
       "      <th>vl_saldo_inicial</th>\n",
       "      <th>sk_conta_bancaria</th>\n",
       "    </tr>\n",
       "  </thead>\n",
       "  <tbody>\n",
       "    <tr>\n",
       "      <th>0</th>\n",
       "      <td>0</td>\n",
       "      <td>1</td>\n",
       "      <td>6</td>\n",
       "      <td>6</td>\n",
       "      <td>47</td>\n",
       "      <td>2023-04-28</td>\n",
       "      <td>2023-03-01</td>\n",
       "      <td>15.00</td>\n",
       "      <td>2023-04-28</td>\n",
       "      <td>1</td>\n",
       "      <td>...</td>\n",
       "      <td>Farmacia</td>\n",
       "      <td>CONSUMO DE MATERIAIS GERAIS</td>\n",
       "      <td>D</td>\n",
       "      <td>11.0</td>\n",
       "      <td>15.00</td>\n",
       "      <td>123.0</td>\n",
       "      <td>78956.0</td>\n",
       "      <td>2023-01-01</td>\n",
       "      <td>2238863.82</td>\n",
       "      <td>1.0</td>\n",
       "    </tr>\n",
       "    <tr>\n",
       "      <th>1</th>\n",
       "      <td>1</td>\n",
       "      <td>1</td>\n",
       "      <td>7</td>\n",
       "      <td>7</td>\n",
       "      <td>71</td>\n",
       "      <td>2023-03-10</td>\n",
       "      <td>2023-03-01</td>\n",
       "      <td>36.53</td>\n",
       "      <td>2023-03-10</td>\n",
       "      <td>2</td>\n",
       "      <td>...</td>\n",
       "      <td>Tecnologia Informacao</td>\n",
       "      <td>MANUTENCAO E ASSISTENCIA TECNICA</td>\n",
       "      <td>D</td>\n",
       "      <td>14.0</td>\n",
       "      <td>36.53</td>\n",
       "      <td>123.0</td>\n",
       "      <td>78956.0</td>\n",
       "      <td>2023-01-01</td>\n",
       "      <td>2238863.82</td>\n",
       "      <td>1.0</td>\n",
       "    </tr>\n",
       "    <tr>\n",
       "      <th>2</th>\n",
       "      <td>2</td>\n",
       "      <td>1</td>\n",
       "      <td>8</td>\n",
       "      <td>8</td>\n",
       "      <td>71</td>\n",
       "      <td>2023-03-27</td>\n",
       "      <td>2023-03-01</td>\n",
       "      <td>328.58</td>\n",
       "      <td>2023-03-27</td>\n",
       "      <td>2</td>\n",
       "      <td>...</td>\n",
       "      <td>Ambulatorio</td>\n",
       "      <td>MANUTENCAO E ASSISTENCIA TECNICA</td>\n",
       "      <td>D</td>\n",
       "      <td>14.0</td>\n",
       "      <td>328.58</td>\n",
       "      <td>123.0</td>\n",
       "      <td>78956.0</td>\n",
       "      <td>2023-01-01</td>\n",
       "      <td>2238863.82</td>\n",
       "      <td>1.0</td>\n",
       "    </tr>\n",
       "    <tr>\n",
       "      <th>3</th>\n",
       "      <td>3</td>\n",
       "      <td>1</td>\n",
       "      <td>9</td>\n",
       "      <td>9</td>\n",
       "      <td>71</td>\n",
       "      <td>2023-04-24</td>\n",
       "      <td>2023-03-01</td>\n",
       "      <td>328.58</td>\n",
       "      <td>2023-04-24</td>\n",
       "      <td>2</td>\n",
       "      <td>...</td>\n",
       "      <td>UTI</td>\n",
       "      <td>MANUTENCAO E ASSISTENCIA TECNICA</td>\n",
       "      <td>D</td>\n",
       "      <td>14.0</td>\n",
       "      <td>328.58</td>\n",
       "      <td>123.0</td>\n",
       "      <td>78956.0</td>\n",
       "      <td>2023-01-01</td>\n",
       "      <td>2238863.82</td>\n",
       "      <td>1.0</td>\n",
       "    </tr>\n",
       "    <tr>\n",
       "      <th>4</th>\n",
       "      <td>4</td>\n",
       "      <td>1</td>\n",
       "      <td>10</td>\n",
       "      <td>10</td>\n",
       "      <td>71</td>\n",
       "      <td>2023-05-22</td>\n",
       "      <td>2023-03-01</td>\n",
       "      <td>328.58</td>\n",
       "      <td>2023-05-22</td>\n",
       "      <td>2</td>\n",
       "      <td>...</td>\n",
       "      <td>Ambulatorio</td>\n",
       "      <td>MANUTENCAO E ASSISTENCIA TECNICA</td>\n",
       "      <td>D</td>\n",
       "      <td>14.0</td>\n",
       "      <td>328.58</td>\n",
       "      <td>123.0</td>\n",
       "      <td>78956.0</td>\n",
       "      <td>2023-01-01</td>\n",
       "      <td>2238863.82</td>\n",
       "      <td>1.0</td>\n",
       "    </tr>\n",
       "  </tbody>\n",
       "</table>\n",
       "<p>5 rows × 41 columns</p>\n",
       "</div>"
      ],
      "text/plain": [
       "   Unnamed: 0  sk_unidade  pk_lancamento  cd_lancamento  sk_conta_financeira  \\\n",
       "0           0           1              6              6                   47   \n",
       "1           1           1              7              7                   71   \n",
       "2           2           1              8              8                   71   \n",
       "3           3           1              9              9                   71   \n",
       "4           4           1             10             10                   71   \n",
       "\n",
       "  dt_vencimento dt_mes_referencia  vl_total_nf dt_venc_parcela  sk_fornecedor  \\\n",
       "0    2023-04-28        2023-03-01        15.00      2023-04-28              1   \n",
       "1    2023-03-10        2023-03-01        36.53      2023-03-10              2   \n",
       "2    2023-03-27        2023-03-01       328.58      2023-03-27              2   \n",
       "3    2023-04-24        2023-03-01       328.58      2023-04-24              2   \n",
       "4    2023-05-22        2023-03-01       328.58      2023-05-22              2   \n",
       "\n",
       "   ... ds_normal_centro_custos        ds_normal_conta_financeira ds_unidade  \\\n",
       "0  ...                Farmacia       CONSUMO DE MATERIAIS GERAIS          D   \n",
       "1  ...   Tecnologia Informacao  MANUTENCAO E ASSISTENCIA TECNICA          D   \n",
       "2  ...             Ambulatorio  MANUTENCAO E ASSISTENCIA TECNICA          D   \n",
       "3  ...                     UTI  MANUTENCAO E ASSISTENCIA TECNICA          D   \n",
       "4  ...             Ambulatorio  MANUTENCAO E ASSISTENCIA TECNICA          D   \n",
       "\n",
       "   sk_normal_conta_financeira  vl_parcela cd_agencia  cd_conta_bancaria  \\\n",
       "0                        11.0       15.00      123.0            78956.0   \n",
       "1                        14.0       36.53      123.0            78956.0   \n",
       "2                        14.0      328.58      123.0            78956.0   \n",
       "3                        14.0      328.58      123.0            78956.0   \n",
       "4                        14.0      328.58      123.0            78956.0   \n",
       "\n",
       "   dt_saldo_inicial  vl_saldo_inicial  sk_conta_bancaria  \n",
       "0        2023-01-01        2238863.82                1.0  \n",
       "1        2023-01-01        2238863.82                1.0  \n",
       "2        2023-01-01        2238863.82                1.0  \n",
       "3        2023-01-01        2238863.82                1.0  \n",
       "4        2023-01-01        2238863.82                1.0  \n",
       "\n",
       "[5 rows x 41 columns]"
      ]
     },
     "execution_count": 505,
     "metadata": {},
     "output_type": "execute_result"
    }
   ],
   "source": [
    "dataset.head()"
   ]
  },
  {
   "cell_type": "code",
   "execution_count": 506,
   "metadata": {},
   "outputs": [],
   "source": [
    "select_column = [\n",
    "            'cd_conta_financeira',\n",
    "            'ds_conta_financeira',\n",
    "            'sk_normal_conta_financeira',\n",
    "            'ds_normal_conta_financeira'\n",
    "]\n",
    "\n",
    "dim_conta_financeira = dataset[select_column]"
   ]
  },
  {
   "cell_type": "markdown",
   "metadata": {},
   "source": [
    "Tipagem dos dados"
   ]
  },
  {
   "cell_type": "code",
   "execution_count": 507,
   "metadata": {},
   "outputs": [],
   "source": [
    "type_conta_financeira = {\n",
    "    'cd_conta_financeira': int,\n",
    "    'ds_conta_financeira': object,\n",
    "    'sk_normal_conta_financeira': int,\n",
    "    'ds_normal_conta_financeira': object\n",
    "}\n",
    "\n",
    "dim_conta_financeira = dim_conta_financeira.astype(type_conta_financeira)"
   ]
  },
  {
   "cell_type": "code",
   "execution_count": 508,
   "metadata": {},
   "outputs": [
    {
     "name": "stdout",
     "output_type": "stream",
     "text": [
      "<class 'pandas.core.frame.DataFrame'>\n",
      "RangeIndex: 5454 entries, 0 to 5453\n",
      "Data columns (total 4 columns):\n",
      " #   Column                      Non-Null Count  Dtype \n",
      "---  ------                      --------------  ----- \n",
      " 0   cd_conta_financeira         5454 non-null   int32 \n",
      " 1   ds_conta_financeira         5454 non-null   object\n",
      " 2   sk_normal_conta_financeira  5454 non-null   int32 \n",
      " 3   ds_normal_conta_financeira  5454 non-null   object\n",
      "dtypes: int32(2), object(2)\n",
      "memory usage: 128.0+ KB\n"
     ]
    }
   ],
   "source": [
    "dim_conta_financeira.info()"
   ]
  },
  {
   "cell_type": "code",
   "execution_count": 509,
   "metadata": {},
   "outputs": [],
   "source": [
    "dim_conta_financeira.sort_values('sk_normal_conta_financeira', inplace=True)"
   ]
  },
  {
   "cell_type": "code",
   "execution_count": 510,
   "metadata": {},
   "outputs": [],
   "source": [
    "dim_conta_financeira.drop_duplicates(inplace=True)"
   ]
  },
  {
   "cell_type": "markdown",
   "metadata": {},
   "source": [
    "## Depara_conta_financeira"
   ]
  },
  {
   "cell_type": "code",
   "execution_count": 511,
   "metadata": {},
   "outputs": [
    {
     "data": {
      "text/html": [
       "<div>\n",
       "<style scoped>\n",
       "    .dataframe tbody tr th:only-of-type {\n",
       "        vertical-align: middle;\n",
       "    }\n",
       "\n",
       "    .dataframe tbody tr th {\n",
       "        vertical-align: top;\n",
       "    }\n",
       "\n",
       "    .dataframe thead th {\n",
       "        text-align: right;\n",
       "    }\n",
       "</style>\n",
       "<table border=\"1\" class=\"dataframe\">\n",
       "  <thead>\n",
       "    <tr style=\"text-align: right;\">\n",
       "      <th></th>\n",
       "      <th>cd_conta_financeira</th>\n",
       "      <th>ds_conta_financeira</th>\n",
       "      <th>sk_normal_conta_financeira</th>\n",
       "      <th>ds_normal_conta_financeira</th>\n",
       "    </tr>\n",
       "  </thead>\n",
       "  <tbody>\n",
       "    <tr>\n",
       "      <th>5453</th>\n",
       "      <td>13</td>\n",
       "      <td>DEVOLUCOES A PACIENTES (DEDUCOES DE RECEITA)</td>\n",
       "      <td>5</td>\n",
       "      <td>DEDUCOES DE RECEITA</td>\n",
       "    </tr>\n",
       "    <tr>\n",
       "      <th>3838</th>\n",
       "      <td>14</td>\n",
       "      <td>COFINS (IMPOSTOS E CONTRIBUICOES)</td>\n",
       "      <td>6</td>\n",
       "      <td>IMPOSTOS E CONTRIBUICOES</td>\n",
       "    </tr>\n",
       "    <tr>\n",
       "      <th>4560</th>\n",
       "      <td>16</td>\n",
       "      <td>ISS (IMPOSTOS E CONTRIBUICOES)</td>\n",
       "      <td>6</td>\n",
       "      <td>IMPOSTOS E CONTRIBUICOES</td>\n",
       "    </tr>\n",
       "    <tr>\n",
       "      <th>3877</th>\n",
       "      <td>15</td>\n",
       "      <td>PIS (IMPOSTOS E CONTRIBUICOES)</td>\n",
       "      <td>6</td>\n",
       "      <td>IMPOSTOS E CONTRIBUICOES</td>\n",
       "    </tr>\n",
       "    <tr>\n",
       "      <th>3120</th>\n",
       "      <td>17</td>\n",
       "      <td>SALARIOS E ORDENADOS (DESPESAS COM PESSOAL)</td>\n",
       "      <td>7</td>\n",
       "      <td>DESPESAS COM PESSOAL</td>\n",
       "    </tr>\n",
       "  </tbody>\n",
       "</table>\n",
       "</div>"
      ],
      "text/plain": [
       "      cd_conta_financeira                           ds_conta_financeira  \\\n",
       "5453                   13  DEVOLUCOES A PACIENTES (DEDUCOES DE RECEITA)   \n",
       "3838                   14             COFINS (IMPOSTOS E CONTRIBUICOES)   \n",
       "4560                   16                ISS (IMPOSTOS E CONTRIBUICOES)   \n",
       "3877                   15                PIS (IMPOSTOS E CONTRIBUICOES)   \n",
       "3120                   17   SALARIOS E ORDENADOS (DESPESAS COM PESSOAL)   \n",
       "\n",
       "      sk_normal_conta_financeira ds_normal_conta_financeira  \n",
       "5453                           5        DEDUCOES DE RECEITA  \n",
       "3838                           6   IMPOSTOS E CONTRIBUICOES  \n",
       "4560                           6   IMPOSTOS E CONTRIBUICOES  \n",
       "3877                           6   IMPOSTOS E CONTRIBUICOES  \n",
       "3120                           7       DESPESAS COM PESSOAL  "
      ]
     },
     "execution_count": 511,
     "metadata": {},
     "output_type": "execute_result"
    }
   ],
   "source": [
    "dim_conta_financeira.head()"
   ]
  },
  {
   "cell_type": "code",
   "execution_count": 512,
   "metadata": {},
   "outputs": [],
   "source": [
    "select_column = [\n",
    "    'ds_normal_conta_financeira',\n",
    "    'sk_normal_conta_financeira'\n",
    "]\n",
    "\n",
    "depara_conta_financeira = dataset[select_column]"
   ]
  },
  {
   "cell_type": "code",
   "execution_count": 513,
   "metadata": {},
   "outputs": [
    {
     "name": "stderr",
     "output_type": "stream",
     "text": [
      "C:\\Users\\gabri\\AppData\\Local\\Temp\\ipykernel_3948\\2604450343.py:1: SettingWithCopyWarning: \n",
      "A value is trying to be set on a copy of a slice from a DataFrame\n",
      "\n",
      "See the caveats in the documentation: https://pandas.pydata.org/pandas-docs/stable/user_guide/indexing.html#returning-a-view-versus-a-copy\n",
      "  depara_conta_financeira.drop_duplicates(inplace=True)\n",
      "C:\\Users\\gabri\\AppData\\Local\\Temp\\ipykernel_3948\\2604450343.py:2: SettingWithCopyWarning: \n",
      "A value is trying to be set on a copy of a slice from a DataFrame\n",
      "\n",
      "See the caveats in the documentation: https://pandas.pydata.org/pandas-docs/stable/user_guide/indexing.html#returning-a-view-versus-a-copy\n",
      "  depara_conta_financeira.sort_values('sk_normal_conta_financeira', inplace=True)\n"
     ]
    }
   ],
   "source": [
    "depara_conta_financeira.drop_duplicates(inplace=True)\n",
    "depara_conta_financeira.sort_values('sk_normal_conta_financeira', inplace=True)\n",
    "select_column_depara_conta = {\n",
    "    'ds_normal_conta_financeira': object,\n",
    "    'sk_normal_conta_financeira': int\n",
    "}\n",
    "\n",
    "depara_conta_financeira = depara_conta_financeira.astype(select_column_depara_conta)"
   ]
  },
  {
   "cell_type": "markdown",
   "metadata": {},
   "source": [
    "## Dim_centro_custos"
   ]
  },
  {
   "cell_type": "code",
   "execution_count": 514,
   "metadata": {},
   "outputs": [
    {
     "data": {
      "text/html": [
       "<div>\n",
       "<style scoped>\n",
       "    .dataframe tbody tr th:only-of-type {\n",
       "        vertical-align: middle;\n",
       "    }\n",
       "\n",
       "    .dataframe tbody tr th {\n",
       "        vertical-align: top;\n",
       "    }\n",
       "\n",
       "    .dataframe thead th {\n",
       "        text-align: right;\n",
       "    }\n",
       "</style>\n",
       "<table border=\"1\" class=\"dataframe\">\n",
       "  <thead>\n",
       "    <tr style=\"text-align: right;\">\n",
       "      <th></th>\n",
       "      <th>Unnamed: 0</th>\n",
       "      <th>sk_unidade</th>\n",
       "      <th>pk_lancamento</th>\n",
       "      <th>cd_lancamento</th>\n",
       "      <th>sk_conta_financeira</th>\n",
       "      <th>dt_vencimento</th>\n",
       "      <th>dt_mes_referencia</th>\n",
       "      <th>vl_total_nf</th>\n",
       "      <th>dt_venc_parcela</th>\n",
       "      <th>sk_fornecedor</th>\n",
       "      <th>...</th>\n",
       "      <th>ds_normal_centro_custos</th>\n",
       "      <th>ds_normal_conta_financeira</th>\n",
       "      <th>ds_unidade</th>\n",
       "      <th>sk_normal_conta_financeira</th>\n",
       "      <th>vl_parcela</th>\n",
       "      <th>cd_agencia</th>\n",
       "      <th>cd_conta_bancaria</th>\n",
       "      <th>dt_saldo_inicial</th>\n",
       "      <th>vl_saldo_inicial</th>\n",
       "      <th>sk_conta_bancaria</th>\n",
       "    </tr>\n",
       "  </thead>\n",
       "  <tbody>\n",
       "    <tr>\n",
       "      <th>0</th>\n",
       "      <td>0</td>\n",
       "      <td>1</td>\n",
       "      <td>6</td>\n",
       "      <td>6</td>\n",
       "      <td>47</td>\n",
       "      <td>2023-04-28</td>\n",
       "      <td>2023-03-01</td>\n",
       "      <td>15.00</td>\n",
       "      <td>2023-04-28</td>\n",
       "      <td>1</td>\n",
       "      <td>...</td>\n",
       "      <td>Farmacia</td>\n",
       "      <td>CONSUMO DE MATERIAIS GERAIS</td>\n",
       "      <td>D</td>\n",
       "      <td>11.0</td>\n",
       "      <td>15.00</td>\n",
       "      <td>123.0</td>\n",
       "      <td>78956.0</td>\n",
       "      <td>2023-01-01</td>\n",
       "      <td>2238863.82</td>\n",
       "      <td>1.0</td>\n",
       "    </tr>\n",
       "    <tr>\n",
       "      <th>1</th>\n",
       "      <td>1</td>\n",
       "      <td>1</td>\n",
       "      <td>7</td>\n",
       "      <td>7</td>\n",
       "      <td>71</td>\n",
       "      <td>2023-03-10</td>\n",
       "      <td>2023-03-01</td>\n",
       "      <td>36.53</td>\n",
       "      <td>2023-03-10</td>\n",
       "      <td>2</td>\n",
       "      <td>...</td>\n",
       "      <td>Tecnologia Informacao</td>\n",
       "      <td>MANUTENCAO E ASSISTENCIA TECNICA</td>\n",
       "      <td>D</td>\n",
       "      <td>14.0</td>\n",
       "      <td>36.53</td>\n",
       "      <td>123.0</td>\n",
       "      <td>78956.0</td>\n",
       "      <td>2023-01-01</td>\n",
       "      <td>2238863.82</td>\n",
       "      <td>1.0</td>\n",
       "    </tr>\n",
       "    <tr>\n",
       "      <th>2</th>\n",
       "      <td>2</td>\n",
       "      <td>1</td>\n",
       "      <td>8</td>\n",
       "      <td>8</td>\n",
       "      <td>71</td>\n",
       "      <td>2023-03-27</td>\n",
       "      <td>2023-03-01</td>\n",
       "      <td>328.58</td>\n",
       "      <td>2023-03-27</td>\n",
       "      <td>2</td>\n",
       "      <td>...</td>\n",
       "      <td>Ambulatorio</td>\n",
       "      <td>MANUTENCAO E ASSISTENCIA TECNICA</td>\n",
       "      <td>D</td>\n",
       "      <td>14.0</td>\n",
       "      <td>328.58</td>\n",
       "      <td>123.0</td>\n",
       "      <td>78956.0</td>\n",
       "      <td>2023-01-01</td>\n",
       "      <td>2238863.82</td>\n",
       "      <td>1.0</td>\n",
       "    </tr>\n",
       "    <tr>\n",
       "      <th>3</th>\n",
       "      <td>3</td>\n",
       "      <td>1</td>\n",
       "      <td>9</td>\n",
       "      <td>9</td>\n",
       "      <td>71</td>\n",
       "      <td>2023-04-24</td>\n",
       "      <td>2023-03-01</td>\n",
       "      <td>328.58</td>\n",
       "      <td>2023-04-24</td>\n",
       "      <td>2</td>\n",
       "      <td>...</td>\n",
       "      <td>UTI</td>\n",
       "      <td>MANUTENCAO E ASSISTENCIA TECNICA</td>\n",
       "      <td>D</td>\n",
       "      <td>14.0</td>\n",
       "      <td>328.58</td>\n",
       "      <td>123.0</td>\n",
       "      <td>78956.0</td>\n",
       "      <td>2023-01-01</td>\n",
       "      <td>2238863.82</td>\n",
       "      <td>1.0</td>\n",
       "    </tr>\n",
       "    <tr>\n",
       "      <th>4</th>\n",
       "      <td>4</td>\n",
       "      <td>1</td>\n",
       "      <td>10</td>\n",
       "      <td>10</td>\n",
       "      <td>71</td>\n",
       "      <td>2023-05-22</td>\n",
       "      <td>2023-03-01</td>\n",
       "      <td>328.58</td>\n",
       "      <td>2023-05-22</td>\n",
       "      <td>2</td>\n",
       "      <td>...</td>\n",
       "      <td>Ambulatorio</td>\n",
       "      <td>MANUTENCAO E ASSISTENCIA TECNICA</td>\n",
       "      <td>D</td>\n",
       "      <td>14.0</td>\n",
       "      <td>328.58</td>\n",
       "      <td>123.0</td>\n",
       "      <td>78956.0</td>\n",
       "      <td>2023-01-01</td>\n",
       "      <td>2238863.82</td>\n",
       "      <td>1.0</td>\n",
       "    </tr>\n",
       "  </tbody>\n",
       "</table>\n",
       "<p>5 rows × 41 columns</p>\n",
       "</div>"
      ],
      "text/plain": [
       "   Unnamed: 0  sk_unidade  pk_lancamento  cd_lancamento  sk_conta_financeira  \\\n",
       "0           0           1              6              6                   47   \n",
       "1           1           1              7              7                   71   \n",
       "2           2           1              8              8                   71   \n",
       "3           3           1              9              9                   71   \n",
       "4           4           1             10             10                   71   \n",
       "\n",
       "  dt_vencimento dt_mes_referencia  vl_total_nf dt_venc_parcela  sk_fornecedor  \\\n",
       "0    2023-04-28        2023-03-01        15.00      2023-04-28              1   \n",
       "1    2023-03-10        2023-03-01        36.53      2023-03-10              2   \n",
       "2    2023-03-27        2023-03-01       328.58      2023-03-27              2   \n",
       "3    2023-04-24        2023-03-01       328.58      2023-04-24              2   \n",
       "4    2023-05-22        2023-03-01       328.58      2023-05-22              2   \n",
       "\n",
       "   ... ds_normal_centro_custos        ds_normal_conta_financeira ds_unidade  \\\n",
       "0  ...                Farmacia       CONSUMO DE MATERIAIS GERAIS          D   \n",
       "1  ...   Tecnologia Informacao  MANUTENCAO E ASSISTENCIA TECNICA          D   \n",
       "2  ...             Ambulatorio  MANUTENCAO E ASSISTENCIA TECNICA          D   \n",
       "3  ...                     UTI  MANUTENCAO E ASSISTENCIA TECNICA          D   \n",
       "4  ...             Ambulatorio  MANUTENCAO E ASSISTENCIA TECNICA          D   \n",
       "\n",
       "   sk_normal_conta_financeira  vl_parcela cd_agencia  cd_conta_bancaria  \\\n",
       "0                        11.0       15.00      123.0            78956.0   \n",
       "1                        14.0       36.53      123.0            78956.0   \n",
       "2                        14.0      328.58      123.0            78956.0   \n",
       "3                        14.0      328.58      123.0            78956.0   \n",
       "4                        14.0      328.58      123.0            78956.0   \n",
       "\n",
       "   dt_saldo_inicial  vl_saldo_inicial  sk_conta_bancaria  \n",
       "0        2023-01-01        2238863.82                1.0  \n",
       "1        2023-01-01        2238863.82                1.0  \n",
       "2        2023-01-01        2238863.82                1.0  \n",
       "3        2023-01-01        2238863.82                1.0  \n",
       "4        2023-01-01        2238863.82                1.0  \n",
       "\n",
       "[5 rows x 41 columns]"
      ]
     },
     "execution_count": 514,
     "metadata": {},
     "output_type": "execute_result"
    }
   ],
   "source": [
    "dataset.head()"
   ]
  },
  {
   "cell_type": "code",
   "execution_count": 515,
   "metadata": {},
   "outputs": [],
   "source": [
    "select_column = [\n",
    "    'ds_centro_custo',\n",
    "    'cd_centro_custos',\n",
    "    'sk_normal_centro_custos'\n",
    "\n",
    "]\n",
    "\n",
    "dim_centro_custos = dataset[select_column]"
   ]
  },
  {
   "cell_type": "code",
   "execution_count": 516,
   "metadata": {},
   "outputs": [
    {
     "data": {
      "text/html": [
       "<div>\n",
       "<style scoped>\n",
       "    .dataframe tbody tr th:only-of-type {\n",
       "        vertical-align: middle;\n",
       "    }\n",
       "\n",
       "    .dataframe tbody tr th {\n",
       "        vertical-align: top;\n",
       "    }\n",
       "\n",
       "    .dataframe thead th {\n",
       "        text-align: right;\n",
       "    }\n",
       "</style>\n",
       "<table border=\"1\" class=\"dataframe\">\n",
       "  <thead>\n",
       "    <tr style=\"text-align: right;\">\n",
       "      <th></th>\n",
       "      <th>ds_centro_custo</th>\n",
       "      <th>cd_centro_custos</th>\n",
       "      <th>sk_normal_centro_custos</th>\n",
       "    </tr>\n",
       "  </thead>\n",
       "  <tbody>\n",
       "    <tr>\n",
       "      <th>0</th>\n",
       "      <td>FARMÁCIA</td>\n",
       "      <td>18</td>\n",
       "      <td>8</td>\n",
       "    </tr>\n",
       "    <tr>\n",
       "      <th>1</th>\n",
       "      <td>TECNOLOGIA DA INFORMAÇÃO</td>\n",
       "      <td>17</td>\n",
       "      <td>7</td>\n",
       "    </tr>\n",
       "    <tr>\n",
       "      <th>2</th>\n",
       "      <td>CONSULTÓRIOS</td>\n",
       "      <td>3</td>\n",
       "      <td>3</td>\n",
       "    </tr>\n",
       "    <tr>\n",
       "      <th>3</th>\n",
       "      <td>TERAPIA INTENSIVA</td>\n",
       "      <td>6</td>\n",
       "      <td>5</td>\n",
       "    </tr>\n",
       "    <tr>\n",
       "      <th>4</th>\n",
       "      <td>CONSULTÓRIOS</td>\n",
       "      <td>3</td>\n",
       "      <td>3</td>\n",
       "    </tr>\n",
       "  </tbody>\n",
       "</table>\n",
       "</div>"
      ],
      "text/plain": [
       "            ds_centro_custo  cd_centro_custos  sk_normal_centro_custos\n",
       "0                  FARMÁCIA                18                        8\n",
       "1  TECNOLOGIA DA INFORMAÇÃO                17                        7\n",
       "2              CONSULTÓRIOS                 3                        3\n",
       "3         TERAPIA INTENSIVA                 6                        5\n",
       "4              CONSULTÓRIOS                 3                        3"
      ]
     },
     "execution_count": 516,
     "metadata": {},
     "output_type": "execute_result"
    }
   ],
   "source": [
    "dim_centro_custos.head()"
   ]
  },
  {
   "cell_type": "code",
   "execution_count": 517,
   "metadata": {},
   "outputs": [
    {
     "name": "stderr",
     "output_type": "stream",
     "text": [
      "C:\\Users\\gabri\\AppData\\Local\\Temp\\ipykernel_3948\\3083402982.py:1: SettingWithCopyWarning: \n",
      "A value is trying to be set on a copy of a slice from a DataFrame\n",
      "\n",
      "See the caveats in the documentation: https://pandas.pydata.org/pandas-docs/stable/user_guide/indexing.html#returning-a-view-versus-a-copy\n",
      "  dim_centro_custos.sort_values('sk_normal_centro_custos', inplace=True)\n"
     ]
    }
   ],
   "source": [
    "dim_centro_custos.sort_values('sk_normal_centro_custos', inplace=True)"
   ]
  },
  {
   "cell_type": "code",
   "execution_count": 518,
   "metadata": {},
   "outputs": [
    {
     "name": "stderr",
     "output_type": "stream",
     "text": [
      "C:\\Users\\gabri\\AppData\\Local\\Temp\\ipykernel_3948\\272793799.py:1: SettingWithCopyWarning: \n",
      "A value is trying to be set on a copy of a slice from a DataFrame\n",
      "\n",
      "See the caveats in the documentation: https://pandas.pydata.org/pandas-docs/stable/user_guide/indexing.html#returning-a-view-versus-a-copy\n",
      "  dim_centro_custos.drop_duplicates(inplace=True)\n"
     ]
    }
   ],
   "source": [
    "dim_centro_custos.drop_duplicates(inplace=True)"
   ]
  },
  {
   "cell_type": "code",
   "execution_count": 519,
   "metadata": {},
   "outputs": [
    {
     "data": {
      "text/html": [
       "<div>\n",
       "<style scoped>\n",
       "    .dataframe tbody tr th:only-of-type {\n",
       "        vertical-align: middle;\n",
       "    }\n",
       "\n",
       "    .dataframe tbody tr th {\n",
       "        vertical-align: top;\n",
       "    }\n",
       "\n",
       "    .dataframe thead th {\n",
       "        text-align: right;\n",
       "    }\n",
       "</style>\n",
       "<table border=\"1\" class=\"dataframe\">\n",
       "  <thead>\n",
       "    <tr style=\"text-align: right;\">\n",
       "      <th></th>\n",
       "      <th>ds_centro_custo</th>\n",
       "      <th>cd_centro_custos</th>\n",
       "      <th>sk_normal_centro_custos</th>\n",
       "    </tr>\n",
       "  </thead>\n",
       "  <tbody>\n",
       "    <tr>\n",
       "      <th>1708</th>\n",
       "      <td>PRONTO SOCORRO</td>\n",
       "      <td>1</td>\n",
       "      <td>1</td>\n",
       "    </tr>\n",
       "    <tr>\n",
       "      <th>2702</th>\n",
       "      <td>CENTRO CIRÚRGICO</td>\n",
       "      <td>2</td>\n",
       "      <td>2</td>\n",
       "    </tr>\n",
       "    <tr>\n",
       "      <th>4774</th>\n",
       "      <td>CONSULTÓRIOS</td>\n",
       "      <td>3</td>\n",
       "      <td>3</td>\n",
       "    </tr>\n",
       "    <tr>\n",
       "      <th>4370</th>\n",
       "      <td>UI POSTO 1</td>\n",
       "      <td>4</td>\n",
       "      <td>4</td>\n",
       "    </tr>\n",
       "    <tr>\n",
       "      <th>823</th>\n",
       "      <td>UI POSTO 2</td>\n",
       "      <td>5</td>\n",
       "      <td>4</td>\n",
       "    </tr>\n",
       "  </tbody>\n",
       "</table>\n",
       "</div>"
      ],
      "text/plain": [
       "       ds_centro_custo  cd_centro_custos  sk_normal_centro_custos\n",
       "1708    PRONTO SOCORRO                 1                        1\n",
       "2702  CENTRO CIRÚRGICO                 2                        2\n",
       "4774      CONSULTÓRIOS                 3                        3\n",
       "4370        UI POSTO 1                 4                        4\n",
       "823         UI POSTO 2                 5                        4"
      ]
     },
     "execution_count": 519,
     "metadata": {},
     "output_type": "execute_result"
    }
   ],
   "source": [
    "dim_centro_custos.head()"
   ]
  },
  {
   "cell_type": "markdown",
   "metadata": {},
   "source": [
    "## depara_centro_custos"
   ]
  },
  {
   "cell_type": "code",
   "execution_count": 520,
   "metadata": {},
   "outputs": [
    {
     "data": {
      "text/html": [
       "<div>\n",
       "<style scoped>\n",
       "    .dataframe tbody tr th:only-of-type {\n",
       "        vertical-align: middle;\n",
       "    }\n",
       "\n",
       "    .dataframe tbody tr th {\n",
       "        vertical-align: top;\n",
       "    }\n",
       "\n",
       "    .dataframe thead th {\n",
       "        text-align: right;\n",
       "    }\n",
       "</style>\n",
       "<table border=\"1\" class=\"dataframe\">\n",
       "  <thead>\n",
       "    <tr style=\"text-align: right;\">\n",
       "      <th></th>\n",
       "      <th>ds_centro_custo</th>\n",
       "      <th>cd_centro_custos</th>\n",
       "      <th>sk_normal_centro_custos</th>\n",
       "    </tr>\n",
       "  </thead>\n",
       "  <tbody>\n",
       "    <tr>\n",
       "      <th>1708</th>\n",
       "      <td>PRONTO SOCORRO</td>\n",
       "      <td>1</td>\n",
       "      <td>1</td>\n",
       "    </tr>\n",
       "    <tr>\n",
       "      <th>2702</th>\n",
       "      <td>CENTRO CIRÚRGICO</td>\n",
       "      <td>2</td>\n",
       "      <td>2</td>\n",
       "    </tr>\n",
       "    <tr>\n",
       "      <th>4774</th>\n",
       "      <td>CONSULTÓRIOS</td>\n",
       "      <td>3</td>\n",
       "      <td>3</td>\n",
       "    </tr>\n",
       "    <tr>\n",
       "      <th>4370</th>\n",
       "      <td>UI POSTO 1</td>\n",
       "      <td>4</td>\n",
       "      <td>4</td>\n",
       "    </tr>\n",
       "    <tr>\n",
       "      <th>823</th>\n",
       "      <td>UI POSTO 2</td>\n",
       "      <td>5</td>\n",
       "      <td>4</td>\n",
       "    </tr>\n",
       "  </tbody>\n",
       "</table>\n",
       "</div>"
      ],
      "text/plain": [
       "       ds_centro_custo  cd_centro_custos  sk_normal_centro_custos\n",
       "1708    PRONTO SOCORRO                 1                        1\n",
       "2702  CENTRO CIRÚRGICO                 2                        2\n",
       "4774      CONSULTÓRIOS                 3                        3\n",
       "4370        UI POSTO 1                 4                        4\n",
       "823         UI POSTO 2                 5                        4"
      ]
     },
     "execution_count": 520,
     "metadata": {},
     "output_type": "execute_result"
    }
   ],
   "source": [
    "dim_centro_custos.head()"
   ]
  },
  {
   "cell_type": "code",
   "execution_count": 521,
   "metadata": {},
   "outputs": [],
   "source": [
    "select_column = [\n",
    "    'sk_normal_centro_custos',\n",
    "    'ds_centro_custo'\n",
    "]\n",
    "\n",
    "depara_centro_custos = dataset[select_column]"
   ]
  },
  {
   "cell_type": "code",
   "execution_count": 522,
   "metadata": {},
   "outputs": [
    {
     "name": "stderr",
     "output_type": "stream",
     "text": [
      "C:\\Users\\gabri\\AppData\\Local\\Temp\\ipykernel_3948\\1890531180.py:1: SettingWithCopyWarning: \n",
      "A value is trying to be set on a copy of a slice from a DataFrame\n",
      "\n",
      "See the caveats in the documentation: https://pandas.pydata.org/pandas-docs/stable/user_guide/indexing.html#returning-a-view-versus-a-copy\n",
      "  depara_centro_custos.sort_values('sk_normal_centro_custos', inplace=True)\n"
     ]
    }
   ],
   "source": [
    "depara_centro_custos.sort_values('sk_normal_centro_custos', inplace=True)"
   ]
  },
  {
   "cell_type": "code",
   "execution_count": 523,
   "metadata": {},
   "outputs": [
    {
     "name": "stderr",
     "output_type": "stream",
     "text": [
      "C:\\Users\\gabri\\AppData\\Local\\Temp\\ipykernel_3948\\2585010003.py:1: SettingWithCopyWarning: \n",
      "A value is trying to be set on a copy of a slice from a DataFrame\n",
      "\n",
      "See the caveats in the documentation: https://pandas.pydata.org/pandas-docs/stable/user_guide/indexing.html#returning-a-view-versus-a-copy\n",
      "  depara_centro_custos.drop_duplicates(inplace=True)\n"
     ]
    }
   ],
   "source": [
    "depara_centro_custos.drop_duplicates(inplace=True)"
   ]
  },
  {
   "cell_type": "markdown",
   "metadata": {},
   "source": [
    "## Dim unidade"
   ]
  },
  {
   "cell_type": "code",
   "execution_count": 524,
   "metadata": {},
   "outputs": [
    {
     "data": {
      "text/html": [
       "<div>\n",
       "<style scoped>\n",
       "    .dataframe tbody tr th:only-of-type {\n",
       "        vertical-align: middle;\n",
       "    }\n",
       "\n",
       "    .dataframe tbody tr th {\n",
       "        vertical-align: top;\n",
       "    }\n",
       "\n",
       "    .dataframe thead th {\n",
       "        text-align: right;\n",
       "    }\n",
       "</style>\n",
       "<table border=\"1\" class=\"dataframe\">\n",
       "  <thead>\n",
       "    <tr style=\"text-align: right;\">\n",
       "      <th></th>\n",
       "      <th>Unnamed: 0</th>\n",
       "      <th>sk_unidade</th>\n",
       "      <th>pk_lancamento</th>\n",
       "      <th>cd_lancamento</th>\n",
       "      <th>sk_conta_financeira</th>\n",
       "      <th>dt_vencimento</th>\n",
       "      <th>dt_mes_referencia</th>\n",
       "      <th>vl_total_nf</th>\n",
       "      <th>dt_venc_parcela</th>\n",
       "      <th>sk_fornecedor</th>\n",
       "      <th>...</th>\n",
       "      <th>ds_normal_centro_custos</th>\n",
       "      <th>ds_normal_conta_financeira</th>\n",
       "      <th>ds_unidade</th>\n",
       "      <th>sk_normal_conta_financeira</th>\n",
       "      <th>vl_parcela</th>\n",
       "      <th>cd_agencia</th>\n",
       "      <th>cd_conta_bancaria</th>\n",
       "      <th>dt_saldo_inicial</th>\n",
       "      <th>vl_saldo_inicial</th>\n",
       "      <th>sk_conta_bancaria</th>\n",
       "    </tr>\n",
       "  </thead>\n",
       "  <tbody>\n",
       "    <tr>\n",
       "      <th>0</th>\n",
       "      <td>0</td>\n",
       "      <td>1</td>\n",
       "      <td>6</td>\n",
       "      <td>6</td>\n",
       "      <td>47</td>\n",
       "      <td>2023-04-28</td>\n",
       "      <td>2023-03-01</td>\n",
       "      <td>15.00</td>\n",
       "      <td>2023-04-28</td>\n",
       "      <td>1</td>\n",
       "      <td>...</td>\n",
       "      <td>Farmacia</td>\n",
       "      <td>CONSUMO DE MATERIAIS GERAIS</td>\n",
       "      <td>D</td>\n",
       "      <td>11.0</td>\n",
       "      <td>15.00</td>\n",
       "      <td>123.0</td>\n",
       "      <td>78956.0</td>\n",
       "      <td>2023-01-01</td>\n",
       "      <td>2238863.82</td>\n",
       "      <td>1.0</td>\n",
       "    </tr>\n",
       "    <tr>\n",
       "      <th>1</th>\n",
       "      <td>1</td>\n",
       "      <td>1</td>\n",
       "      <td>7</td>\n",
       "      <td>7</td>\n",
       "      <td>71</td>\n",
       "      <td>2023-03-10</td>\n",
       "      <td>2023-03-01</td>\n",
       "      <td>36.53</td>\n",
       "      <td>2023-03-10</td>\n",
       "      <td>2</td>\n",
       "      <td>...</td>\n",
       "      <td>Tecnologia Informacao</td>\n",
       "      <td>MANUTENCAO E ASSISTENCIA TECNICA</td>\n",
       "      <td>D</td>\n",
       "      <td>14.0</td>\n",
       "      <td>36.53</td>\n",
       "      <td>123.0</td>\n",
       "      <td>78956.0</td>\n",
       "      <td>2023-01-01</td>\n",
       "      <td>2238863.82</td>\n",
       "      <td>1.0</td>\n",
       "    </tr>\n",
       "    <tr>\n",
       "      <th>2</th>\n",
       "      <td>2</td>\n",
       "      <td>1</td>\n",
       "      <td>8</td>\n",
       "      <td>8</td>\n",
       "      <td>71</td>\n",
       "      <td>2023-03-27</td>\n",
       "      <td>2023-03-01</td>\n",
       "      <td>328.58</td>\n",
       "      <td>2023-03-27</td>\n",
       "      <td>2</td>\n",
       "      <td>...</td>\n",
       "      <td>Ambulatorio</td>\n",
       "      <td>MANUTENCAO E ASSISTENCIA TECNICA</td>\n",
       "      <td>D</td>\n",
       "      <td>14.0</td>\n",
       "      <td>328.58</td>\n",
       "      <td>123.0</td>\n",
       "      <td>78956.0</td>\n",
       "      <td>2023-01-01</td>\n",
       "      <td>2238863.82</td>\n",
       "      <td>1.0</td>\n",
       "    </tr>\n",
       "    <tr>\n",
       "      <th>3</th>\n",
       "      <td>3</td>\n",
       "      <td>1</td>\n",
       "      <td>9</td>\n",
       "      <td>9</td>\n",
       "      <td>71</td>\n",
       "      <td>2023-04-24</td>\n",
       "      <td>2023-03-01</td>\n",
       "      <td>328.58</td>\n",
       "      <td>2023-04-24</td>\n",
       "      <td>2</td>\n",
       "      <td>...</td>\n",
       "      <td>UTI</td>\n",
       "      <td>MANUTENCAO E ASSISTENCIA TECNICA</td>\n",
       "      <td>D</td>\n",
       "      <td>14.0</td>\n",
       "      <td>328.58</td>\n",
       "      <td>123.0</td>\n",
       "      <td>78956.0</td>\n",
       "      <td>2023-01-01</td>\n",
       "      <td>2238863.82</td>\n",
       "      <td>1.0</td>\n",
       "    </tr>\n",
       "    <tr>\n",
       "      <th>4</th>\n",
       "      <td>4</td>\n",
       "      <td>1</td>\n",
       "      <td>10</td>\n",
       "      <td>10</td>\n",
       "      <td>71</td>\n",
       "      <td>2023-05-22</td>\n",
       "      <td>2023-03-01</td>\n",
       "      <td>328.58</td>\n",
       "      <td>2023-05-22</td>\n",
       "      <td>2</td>\n",
       "      <td>...</td>\n",
       "      <td>Ambulatorio</td>\n",
       "      <td>MANUTENCAO E ASSISTENCIA TECNICA</td>\n",
       "      <td>D</td>\n",
       "      <td>14.0</td>\n",
       "      <td>328.58</td>\n",
       "      <td>123.0</td>\n",
       "      <td>78956.0</td>\n",
       "      <td>2023-01-01</td>\n",
       "      <td>2238863.82</td>\n",
       "      <td>1.0</td>\n",
       "    </tr>\n",
       "  </tbody>\n",
       "</table>\n",
       "<p>5 rows × 41 columns</p>\n",
       "</div>"
      ],
      "text/plain": [
       "   Unnamed: 0  sk_unidade  pk_lancamento  cd_lancamento  sk_conta_financeira  \\\n",
       "0           0           1              6              6                   47   \n",
       "1           1           1              7              7                   71   \n",
       "2           2           1              8              8                   71   \n",
       "3           3           1              9              9                   71   \n",
       "4           4           1             10             10                   71   \n",
       "\n",
       "  dt_vencimento dt_mes_referencia  vl_total_nf dt_venc_parcela  sk_fornecedor  \\\n",
       "0    2023-04-28        2023-03-01        15.00      2023-04-28              1   \n",
       "1    2023-03-10        2023-03-01        36.53      2023-03-10              2   \n",
       "2    2023-03-27        2023-03-01       328.58      2023-03-27              2   \n",
       "3    2023-04-24        2023-03-01       328.58      2023-04-24              2   \n",
       "4    2023-05-22        2023-03-01       328.58      2023-05-22              2   \n",
       "\n",
       "   ... ds_normal_centro_custos        ds_normal_conta_financeira ds_unidade  \\\n",
       "0  ...                Farmacia       CONSUMO DE MATERIAIS GERAIS          D   \n",
       "1  ...   Tecnologia Informacao  MANUTENCAO E ASSISTENCIA TECNICA          D   \n",
       "2  ...             Ambulatorio  MANUTENCAO E ASSISTENCIA TECNICA          D   \n",
       "3  ...                     UTI  MANUTENCAO E ASSISTENCIA TECNICA          D   \n",
       "4  ...             Ambulatorio  MANUTENCAO E ASSISTENCIA TECNICA          D   \n",
       "\n",
       "   sk_normal_conta_financeira  vl_parcela cd_agencia  cd_conta_bancaria  \\\n",
       "0                        11.0       15.00      123.0            78956.0   \n",
       "1                        14.0       36.53      123.0            78956.0   \n",
       "2                        14.0      328.58      123.0            78956.0   \n",
       "3                        14.0      328.58      123.0            78956.0   \n",
       "4                        14.0      328.58      123.0            78956.0   \n",
       "\n",
       "   dt_saldo_inicial  vl_saldo_inicial  sk_conta_bancaria  \n",
       "0        2023-01-01        2238863.82                1.0  \n",
       "1        2023-01-01        2238863.82                1.0  \n",
       "2        2023-01-01        2238863.82                1.0  \n",
       "3        2023-01-01        2238863.82                1.0  \n",
       "4        2023-01-01        2238863.82                1.0  \n",
       "\n",
       "[5 rows x 41 columns]"
      ]
     },
     "execution_count": 524,
     "metadata": {},
     "output_type": "execute_result"
    }
   ],
   "source": [
    "dataset.head()"
   ]
  },
  {
   "cell_type": "code",
   "execution_count": 525,
   "metadata": {},
   "outputs": [],
   "source": [
    "select_column = [\n",
    "    'ds_unidade',\n",
    "    'sk_unidade'\n",
    "]\n",
    "dim_unidade = dataset[select_column]"
   ]
  },
  {
   "cell_type": "code",
   "execution_count": 526,
   "metadata": {},
   "outputs": [
    {
     "name": "stderr",
     "output_type": "stream",
     "text": [
      "C:\\Users\\gabri\\AppData\\Local\\Temp\\ipykernel_3948\\3207697419.py:1: SettingWithCopyWarning: \n",
      "A value is trying to be set on a copy of a slice from a DataFrame\n",
      "\n",
      "See the caveats in the documentation: https://pandas.pydata.org/pandas-docs/stable/user_guide/indexing.html#returning-a-view-versus-a-copy\n",
      "  dim_unidade.drop_duplicates(inplace=True)\n"
     ]
    }
   ],
   "source": [
    "dim_unidade.drop_duplicates(inplace=True)"
   ]
  },
  {
   "cell_type": "code",
   "execution_count": 527,
   "metadata": {},
   "outputs": [
    {
     "data": {
      "text/html": [
       "<div>\n",
       "<style scoped>\n",
       "    .dataframe tbody tr th:only-of-type {\n",
       "        vertical-align: middle;\n",
       "    }\n",
       "\n",
       "    .dataframe tbody tr th {\n",
       "        vertical-align: top;\n",
       "    }\n",
       "\n",
       "    .dataframe thead th {\n",
       "        text-align: right;\n",
       "    }\n",
       "</style>\n",
       "<table border=\"1\" class=\"dataframe\">\n",
       "  <thead>\n",
       "    <tr style=\"text-align: right;\">\n",
       "      <th></th>\n",
       "      <th>ds_unidade</th>\n",
       "      <th>sk_unidade</th>\n",
       "    </tr>\n",
       "  </thead>\n",
       "  <tbody>\n",
       "    <tr>\n",
       "      <th>0</th>\n",
       "      <td>D</td>\n",
       "      <td>1</td>\n",
       "    </tr>\n",
       "  </tbody>\n",
       "</table>\n",
       "</div>"
      ],
      "text/plain": [
       "  ds_unidade  sk_unidade\n",
       "0          D           1"
      ]
     },
     "execution_count": 527,
     "metadata": {},
     "output_type": "execute_result"
    }
   ],
   "source": [
    "dim_unidade.head()"
   ]
  },
  {
   "cell_type": "markdown",
   "metadata": {},
   "source": [
    "## Fato Saldo inicial"
   ]
  },
  {
   "cell_type": "code",
   "execution_count": 528,
   "metadata": {},
   "outputs": [
    {
     "data": {
      "text/plain": [
       "Index(['Unnamed: 0', 'sk_unidade', 'pk_lancamento', 'cd_lancamento',\n",
       "       'sk_conta_financeira', 'dt_vencimento', 'dt_mes_referencia',\n",
       "       'vl_total_nf', 'dt_venc_parcela', 'sk_fornecedor', 'dt_realizado',\n",
       "       'vl_realizado', 'ds_observacao', 'dt_emissao_nf_doc', 'dt_inclusao',\n",
       "       'cd_nf_doc', 'cd_parcela', 'vl_juros', 'vl_descontos', 'tp_lancamento',\n",
       "       'sk_normal_centro_custos', 'tp_forma_pgto', 'cd_documento',\n",
       "       'tp_situacao', 'cd_centro_custos', 'cd_conta_financeira',\n",
       "       'cd_fornecedor', 'ds_centro_custo', 'ds_conta_bancaria',\n",
       "       'ds_conta_financeira', 'ds_fornecedor', 'ds_normal_centro_custos',\n",
       "       'ds_normal_conta_financeira', 'ds_unidade',\n",
       "       'sk_normal_conta_financeira', 'vl_parcela', 'cd_agencia',\n",
       "       'cd_conta_bancaria', 'dt_saldo_inicial', 'vl_saldo_inicial',\n",
       "       'sk_conta_bancaria'],\n",
       "      dtype='object')"
      ]
     },
     "execution_count": 528,
     "metadata": {},
     "output_type": "execute_result"
    }
   ],
   "source": [
    "dataset.columns"
   ]
  },
  {
   "cell_type": "code",
   "execution_count": 529,
   "metadata": {},
   "outputs": [],
   "source": [
    "select_columns = [\n",
    "    'dt_saldo_inicial',\n",
    "    'vl_saldo_inicial',\n",
    "    'sk_conta_bancaria',\n",
    "    'ds_conta_bancaria',\n",
    "    'cd_conta_bancaria',\n",
    "    'cd_agencia'\n",
    "]\n",
    "\n",
    "fato_saldo = dataset[select_columns]"
   ]
  },
  {
   "cell_type": "code",
   "execution_count": 530,
   "metadata": {},
   "outputs": [
    {
     "name": "stderr",
     "output_type": "stream",
     "text": [
      "C:\\Users\\gabri\\AppData\\Local\\Temp\\ipykernel_3948\\3479307977.py:1: SettingWithCopyWarning: \n",
      "A value is trying to be set on a copy of a slice from a DataFrame\n",
      "\n",
      "See the caveats in the documentation: https://pandas.pydata.org/pandas-docs/stable/user_guide/indexing.html#returning-a-view-versus-a-copy\n",
      "  fato_saldo.drop_duplicates(inplace=True)\n",
      "C:\\Users\\gabri\\AppData\\Local\\Temp\\ipykernel_3948\\3479307977.py:2: SettingWithCopyWarning: \n",
      "A value is trying to be set on a copy of a slice from a DataFrame\n",
      "\n",
      "See the caveats in the documentation: https://pandas.pydata.org/pandas-docs/stable/user_guide/indexing.html#returning-a-view-versus-a-copy\n",
      "  fato_saldo.dropna(inplace=True)\n"
     ]
    }
   ],
   "source": [
    "fato_saldo.drop_duplicates(inplace=True)\n",
    "fato_saldo.dropna(inplace=True)"
   ]
  },
  {
   "cell_type": "code",
   "execution_count": 531,
   "metadata": {},
   "outputs": [
    {
     "data": {
      "text/html": [
       "<div>\n",
       "<style scoped>\n",
       "    .dataframe tbody tr th:only-of-type {\n",
       "        vertical-align: middle;\n",
       "    }\n",
       "\n",
       "    .dataframe tbody tr th {\n",
       "        vertical-align: top;\n",
       "    }\n",
       "\n",
       "    .dataframe thead th {\n",
       "        text-align: right;\n",
       "    }\n",
       "</style>\n",
       "<table border=\"1\" class=\"dataframe\">\n",
       "  <thead>\n",
       "    <tr style=\"text-align: right;\">\n",
       "      <th></th>\n",
       "      <th>dt_saldo_inicial</th>\n",
       "      <th>vl_saldo_inicial</th>\n",
       "      <th>sk_conta_bancaria</th>\n",
       "      <th>ds_conta_bancaria</th>\n",
       "      <th>cd_conta_bancaria</th>\n",
       "      <th>cd_agencia</th>\n",
       "    </tr>\n",
       "  </thead>\n",
       "  <tbody>\n",
       "    <tr>\n",
       "      <th>0</th>\n",
       "      <td>2023-01-01</td>\n",
       "      <td>2238863.82</td>\n",
       "      <td>1.0</td>\n",
       "      <td>GERAL</td>\n",
       "      <td>78956.0</td>\n",
       "      <td>123.0</td>\n",
       "    </tr>\n",
       "  </tbody>\n",
       "</table>\n",
       "</div>"
      ],
      "text/plain": [
       "  dt_saldo_inicial  vl_saldo_inicial  sk_conta_bancaria ds_conta_bancaria  \\\n",
       "0       2023-01-01        2238863.82                1.0             GERAL   \n",
       "\n",
       "   cd_conta_bancaria  cd_agencia  \n",
       "0            78956.0       123.0  "
      ]
     },
     "execution_count": 531,
     "metadata": {},
     "output_type": "execute_result"
    }
   ],
   "source": [
    "fato_saldo.head()"
   ]
  },
  {
   "cell_type": "code",
   "execution_count": 532,
   "metadata": {},
   "outputs": [],
   "source": [
    "type_conta = {\n",
    "    'dt_saldo_inicial': 'datetime64[ns]',\n",
    "    'vl_saldo_inicial': float,\n",
    "    'sk_conta_bancaria': int,\n",
    "    'ds_conta_bancaria': object,\n",
    "    'cd_conta_bancaria': int,\n",
    "    'cd_agencia': int\n",
    "}\n",
    "\n",
    "fato_saldo = fato_saldo.astype(type_conta)"
   ]
  },
  {
   "cell_type": "code",
   "execution_count": 533,
   "metadata": {},
   "outputs": [],
   "source": [
    "fato_saldo['cd_banco'] = pd.factorize(fato_saldo['cd_conta_bancaria'])[0] +1\n",
    "fato_saldo['cd_banco'] = fato_saldo['cd_banco'].replace(0, np.nan)"
   ]
  },
  {
   "cell_type": "code",
   "execution_count": 534,
   "metadata": {},
   "outputs": [],
   "source": [
    "fato_saldo['sn_ativo'] = True"
   ]
  },
  {
   "cell_type": "code",
   "execution_count": 535,
   "metadata": {},
   "outputs": [],
   "source": [
    "fato_saldo.sort_values('sk_conta_bancaria', inplace=True)"
   ]
  },
  {
   "cell_type": "code",
   "execution_count": 536,
   "metadata": {},
   "outputs": [
    {
     "name": "stdout",
     "output_type": "stream",
     "text": [
      "<class 'pandas.core.frame.DataFrame'>\n",
      "Index: 1 entries, 0 to 0\n",
      "Data columns (total 8 columns):\n",
      " #   Column             Non-Null Count  Dtype         \n",
      "---  ------             --------------  -----         \n",
      " 0   dt_saldo_inicial   1 non-null      datetime64[ns]\n",
      " 1   vl_saldo_inicial   1 non-null      float64       \n",
      " 2   sk_conta_bancaria  1 non-null      int32         \n",
      " 3   ds_conta_bancaria  1 non-null      object        \n",
      " 4   cd_conta_bancaria  1 non-null      int32         \n",
      " 5   cd_agencia         1 non-null      int32         \n",
      " 6   cd_banco           1 non-null      int64         \n",
      " 7   sn_ativo           1 non-null      bool          \n",
      "dtypes: bool(1), datetime64[ns](1), float64(1), int32(3), int64(1), object(1)\n",
      "memory usage: 53.0+ bytes\n"
     ]
    }
   ],
   "source": [
    "fato_saldo.info()"
   ]
  },
  {
   "cell_type": "markdown",
   "metadata": {},
   "source": [
    "## Dim conta bancaria"
   ]
  },
  {
   "cell_type": "code",
   "execution_count": 537,
   "metadata": {},
   "outputs": [
    {
     "data": {
      "text/html": [
       "<div>\n",
       "<style scoped>\n",
       "    .dataframe tbody tr th:only-of-type {\n",
       "        vertical-align: middle;\n",
       "    }\n",
       "\n",
       "    .dataframe tbody tr th {\n",
       "        vertical-align: top;\n",
       "    }\n",
       "\n",
       "    .dataframe thead th {\n",
       "        text-align: right;\n",
       "    }\n",
       "</style>\n",
       "<table border=\"1\" class=\"dataframe\">\n",
       "  <thead>\n",
       "    <tr style=\"text-align: right;\">\n",
       "      <th></th>\n",
       "      <th>dt_saldo_inicial</th>\n",
       "      <th>vl_saldo_inicial</th>\n",
       "      <th>sk_conta_bancaria</th>\n",
       "      <th>ds_conta_bancaria</th>\n",
       "      <th>cd_conta_bancaria</th>\n",
       "      <th>cd_agencia</th>\n",
       "      <th>cd_banco</th>\n",
       "      <th>sn_ativo</th>\n",
       "    </tr>\n",
       "  </thead>\n",
       "  <tbody>\n",
       "    <tr>\n",
       "      <th>0</th>\n",
       "      <td>2023-01-01</td>\n",
       "      <td>2238863.82</td>\n",
       "      <td>1</td>\n",
       "      <td>GERAL</td>\n",
       "      <td>78956</td>\n",
       "      <td>123</td>\n",
       "      <td>1</td>\n",
       "      <td>True</td>\n",
       "    </tr>\n",
       "  </tbody>\n",
       "</table>\n",
       "</div>"
      ],
      "text/plain": [
       "  dt_saldo_inicial  vl_saldo_inicial  sk_conta_bancaria ds_conta_bancaria  \\\n",
       "0       2023-01-01        2238863.82                  1             GERAL   \n",
       "\n",
       "   cd_conta_bancaria  cd_agencia  cd_banco  sn_ativo  \n",
       "0              78956         123         1      True  "
      ]
     },
     "execution_count": 537,
     "metadata": {},
     "output_type": "execute_result"
    }
   ],
   "source": [
    "fato_saldo.head()"
   ]
  },
  {
   "cell_type": "code",
   "execution_count": 538,
   "metadata": {},
   "outputs": [],
   "source": [
    "select_column = [\n",
    "    'sk_conta_bancaria',\n",
    "    'cd_conta_bancaria',\n",
    "    'cd_agencia',\n",
    "    'ds_conta_bancaria',\n",
    "    'cd_banco',\n",
    "    'sn_ativo'\n",
    "]\n",
    "\n",
    "dim_conta_bancaria = fato_saldo[select_column]"
   ]
  },
  {
   "cell_type": "code",
   "execution_count": 539,
   "metadata": {},
   "outputs": [
    {
     "name": "stdout",
     "output_type": "stream",
     "text": [
      "<class 'pandas.core.frame.DataFrame'>\n",
      "Index: 1 entries, 0 to 0\n",
      "Data columns (total 6 columns):\n",
      " #   Column             Non-Null Count  Dtype \n",
      "---  ------             --------------  ----- \n",
      " 0   sk_conta_bancaria  1 non-null      int32 \n",
      " 1   cd_conta_bancaria  1 non-null      int32 \n",
      " 2   cd_agencia         1 non-null      int32 \n",
      " 3   ds_conta_bancaria  1 non-null      object\n",
      " 4   cd_banco           1 non-null      int64 \n",
      " 5   sn_ativo           1 non-null      bool  \n",
      "dtypes: bool(1), int32(3), int64(1), object(1)\n",
      "memory usage: 37.0+ bytes\n"
     ]
    }
   ],
   "source": [
    "dim_conta_bancaria.info()"
   ]
  },
  {
   "cell_type": "code",
   "execution_count": null,
   "metadata": {},
   "outputs": [],
   "source": []
  },
  {
   "cell_type": "markdown",
   "metadata": {},
   "source": [
    "## Exportando camada gold"
   ]
  },
  {
   "cell_type": "markdown",
   "metadata": {},
   "source": [
    "Caminho padrao"
   ]
  },
  {
   "cell_type": "code",
   "execution_count": 540,
   "metadata": {},
   "outputs": [],
   "source": [
    "BASEFOLDER = r'C:\\Users\\gabri\\OneDrive\\Documentos\\Projetos\\Datalake\\{stage}\\{folder}'\n",
    "today = datetime.now()\n",
    "date = today.strftime('%Y_%m_%d'\n",
    "                      )"
   ]
  },
  {
   "cell_type": "markdown",
   "metadata": {},
   "source": [
    "fato lancamento"
   ]
  },
  {
   "cell_type": "code",
   "execution_count": 541,
   "metadata": {},
   "outputs": [],
   "source": [
    "folder_lancamento = BASEFOLDER.format(stage='gold', folder='fato_lancamento')\n",
    "file_lancamento = f'fato_lancamento_extractDate={date}.txt'\n",
    "\n",
    "lancamento_path = os.path.join(folder_lancamento, file_lancamento)\n",
    "\n",
    "if  not os.path.isdir(folder_lancamento): \n",
    "    Path(folder_lancamento).mkdir(parents=True, exist_ok=True)\n",
    "\n",
    "fato_lancamento.to_csv(lancamento_path, sep='\\t', index=False)"
   ]
  },
  {
   "cell_type": "markdown",
   "metadata": {},
   "source": [
    "Fato saldo"
   ]
  },
  {
   "cell_type": "code",
   "execution_count": 542,
   "metadata": {},
   "outputs": [],
   "source": [
    "folder_saldo = BASEFOLDER.format(stage='gold', folder='fato_saldo')\n",
    "file_saldo = f'fato_saldo_extractDate={date}.txt'\n",
    "\n",
    "saldo_path = os.path.join(folder_saldo, file_saldo)\n",
    "\n",
    "if  not os.path.isdir(folder_saldo): \n",
    "    Path(folder_saldo).mkdir(parents=True, exist_ok=True)\n",
    "\n",
    "fato_saldo.to_csv(saldo_path, sep='\\t', index=False)"
   ]
  },
  {
   "cell_type": "markdown",
   "metadata": {},
   "source": [
    "Dim Conta Bancaria"
   ]
  },
  {
   "cell_type": "code",
   "execution_count": 543,
   "metadata": {},
   "outputs": [],
   "source": [
    "folder_dim_conta_bancaria = BASEFOLDER.format(stage='gold', folder='dim_conta_bancaria')\n",
    "file_dim_conta_bancaria = f'dim_conta_bancaria_extractDate={date}.txt'\n",
    "\n",
    "dim_conta_bancaria_path = os.path.join(folder_dim_conta_bancaria, file_dim_conta_bancaria)\n",
    "\n",
    "if  not os.path.isdir(folder_dim_conta_bancaria): \n",
    "    Path(folder_dim_conta_bancaria).mkdir(parents=True, exist_ok=True)\n",
    "\n",
    "dim_conta_bancaria.to_csv(dim_conta_bancaria_path, sep='\\t',index=False)"
   ]
  },
  {
   "cell_type": "markdown",
   "metadata": {},
   "source": [
    "Dim Centro Custos"
   ]
  },
  {
   "cell_type": "code",
   "execution_count": 544,
   "metadata": {},
   "outputs": [],
   "source": [
    "folder_dim_centro_custos = BASEFOLDER.format(stage='gold', folder='dim_centro_custos')\n",
    "file_dim_centro_custos = f'dim_centro_custos_extractDate={date}.txt'\n",
    "\n",
    "dim_centro_custos_path = os.path.join(folder_dim_centro_custos, file_dim_centro_custos)\n",
    "\n",
    "if  not os.path.isdir(folder_dim_centro_custos): \n",
    "    Path(folder_dim_centro_custos).mkdir(parents=True, exist_ok=True)\n",
    "\n",
    "dim_centro_custos.to_csv(dim_centro_custos_path, sep='\\t', index=False)"
   ]
  },
  {
   "cell_type": "markdown",
   "metadata": {},
   "source": [
    "Dim Conta Financeira"
   ]
  },
  {
   "cell_type": "code",
   "execution_count": 545,
   "metadata": {},
   "outputs": [],
   "source": [
    "folder_dim_conta_financeira = BASEFOLDER.format(stage='gold', folder='dim_conta_financeira')\n",
    "file_dim_conta_financeira = f'dim_conta_financeira_extractDate={date}.txt'\n",
    "\n",
    "dim_conta_financeira_path = os.path.join(folder_dim_conta_financeira, file_dim_conta_financeira)\n",
    "\n",
    "if  not os.path.isdir(folder_dim_conta_financeira): \n",
    "    Path(folder_dim_conta_financeira).mkdir(parents=True, exist_ok=True)\n",
    "\n",
    "dim_conta_financeira.to_csv(dim_conta_financeira_path, sep='\\t', index=False)"
   ]
  },
  {
   "cell_type": "markdown",
   "metadata": {},
   "source": [
    "Dim fornecedor"
   ]
  },
  {
   "cell_type": "code",
   "execution_count": 546,
   "metadata": {},
   "outputs": [],
   "source": [
    "folder_dim_fornecedor = BASEFOLDER.format(stage='gold', folder='dim_fornecedor')\n",
    "file_dim_fornecedor = f'dim_fornecedor_extractDate={date}.txt'\n",
    "\n",
    "dim_fornecedor_path = os.path.join(folder_dim_fornecedor, file_dim_fornecedor)\n",
    "\n",
    "if  not os.path.isdir(folder_dim_fornecedor): \n",
    "    Path(folder_dim_fornecedor).mkdir(parents=True, exist_ok=True)\n",
    "\n",
    "dim_fornecedor.to_csv(dim_fornecedor_path, sep='\\t', index=False)"
   ]
  },
  {
   "cell_type": "markdown",
   "metadata": {},
   "source": [
    "Dim unidade"
   ]
  },
  {
   "cell_type": "code",
   "execution_count": 547,
   "metadata": {},
   "outputs": [],
   "source": [
    "folder_dim_unidade = BASEFOLDER.format(stage='gold', folder='dim_unidade')\n",
    "file_dim_unidade = f'dim_unidade_extractDate={date}.txt'\n",
    "\n",
    "dim_unidade_path = os.path.join(folder_dim_unidade, file_dim_unidade)\n",
    "\n",
    "if  not os.path.isdir(folder_dim_unidade): \n",
    "    Path(folder_dim_unidade).mkdir(parents=True, exist_ok=True)\n",
    "\n",
    "dim_unidade.to_csv(dim_unidade_path, sep='\\t', index=False)"
   ]
  },
  {
   "cell_type": "markdown",
   "metadata": {},
   "source": [
    "depara_centro_custos"
   ]
  },
  {
   "cell_type": "code",
   "execution_count": 548,
   "metadata": {},
   "outputs": [],
   "source": [
    "folder_depara_centro_custos = BASEFOLDER.format(stage='gold', folder='depara_centro_custos')\n",
    "file_depara_centro_custos = f'depara_centro_custos_extractDate={date}.txt'\n",
    "\n",
    "depara_centro_custos_path = os.path.join(folder_depara_centro_custos, file_depara_centro_custos)\n",
    "\n",
    "if  not os.path.isdir(folder_depara_centro_custos): \n",
    "    Path(folder_depara_centro_custos).mkdir(parents=True, exist_ok=True)\n",
    "\n",
    "depara_centro_custos.to_csv(depara_centro_custos_path, sep='\\t', index=False)"
   ]
  },
  {
   "cell_type": "markdown",
   "metadata": {},
   "source": [
    "depara_conta_financeira"
   ]
  },
  {
   "cell_type": "code",
   "execution_count": 549,
   "metadata": {},
   "outputs": [],
   "source": [
    "folder_depara_conta_financeira = BASEFOLDER.format(stage='gold', folder='depara_conta_financeira')\n",
    "file_depara_conta_financeira = f'depara_conta_financeira_extractDate={date}.txt'\n",
    "\n",
    "depara_conta_financeira_path = os.path.join(folder_depara_conta_financeira, file_depara_conta_financeira)\n",
    "\n",
    "if  not os.path.isdir(folder_depara_conta_financeira): \n",
    "    Path(folder_depara_conta_financeira).mkdir(parents=True, exist_ok=True)\n",
    "\n",
    "depara_conta_financeira.to_csv(depara_conta_financeira_path, sep='\\t', index=False)"
   ]
  }
 ],
 "metadata": {
  "kernelspec": {
   "display_name": ".venv",
   "language": "python",
   "name": "python3"
  },
  "language_info": {
   "codemirror_mode": {
    "name": "ipython",
    "version": 3
   },
   "file_extension": ".py",
   "mimetype": "text/x-python",
   "name": "python",
   "nbconvert_exporter": "python",
   "pygments_lexer": "ipython3",
   "version": "3.12.3"
  }
 },
 "nbformat": 4,
 "nbformat_minor": 2
}
