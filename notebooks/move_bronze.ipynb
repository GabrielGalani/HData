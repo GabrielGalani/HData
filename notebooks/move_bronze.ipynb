{
 "cells": [
  {
   "cell_type": "code",
   "execution_count": 3,
   "metadata": {},
   "outputs": [],
   "source": [
    "from pathlib import Path\n",
    "import shutil\n",
    "import os"
   ]
  },
  {
   "cell_type": "code",
   "execution_count": 4,
   "metadata": {},
   "outputs": [],
   "source": [
    "path_folder = r\"C:\\Users\\gabri\\OneDrive\\Documentos\\Projetos\\Case 1 - Dados Fin\"\n",
    "for file in os.listdir(path_folder):\n",
    "    destination = r'C:\\Users\\gabri\\OneDrive\\Documentos\\Projetos\\Datalake\\bronze\\dados_recebidos'\n",
    "    if \"Dados Recebidos\" in file:\n",
    "        path_file = os.path.join(path_folder, file)\n",
    "        destination_path = os.path.join(destination, file)\n",
    "\n",
    "\n",
    "        # Criando pasta no datalake\n",
    "        Path(destination).mkdir(parents=True, exist_ok=True)\n",
    "\n",
    "        shutil.copy(path_file, destination_path)"
   ]
  },
  {
   "cell_type": "code",
   "execution_count": 5,
   "metadata": {},
   "outputs": [],
   "source": [
    "def move_to_bronze(path_folder, destination):\n",
    "    for file in os.listdir(path_folder):\n",
    "        if \"Dados Recebidos\" in file:\n",
    "            path_file = os.path.join(path_folder, file)\n",
    "            destination_path = os.path.join(destination, file)\n",
    "\n",
    "\n",
    "            # Criando pasta no datalake\n",
    "            Path(destination).mkdir(parents=True, exist_ok=True)\n",
    "\n",
    "            # Copiando arquivo\n",
    "            shutil.copy(path_file, destination_path)\n",
    "            print('Arquivo movido com sucesso!')"
   ]
  }
 ],
 "metadata": {
  "kernelspec": {
   "display_name": "Python 3",
   "language": "python",
   "name": "python3"
  },
  "language_info": {
   "codemirror_mode": {
    "name": "ipython",
    "version": 3
   },
   "file_extension": ".py",
   "mimetype": "text/x-python",
   "name": "python",
   "nbconvert_exporter": "python",
   "pygments_lexer": "ipython3",
   "version": "3.12.3"
  }
 },
 "nbformat": 4,
 "nbformat_minor": 2
}
